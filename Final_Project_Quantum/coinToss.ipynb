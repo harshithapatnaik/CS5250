{
 "cells": [
  {
   "cell_type": "code",
   "execution_count": null,
   "id": "1ee72963",
   "metadata": {},
   "outputs": [
    {
     "name": "stdout",
     "output_type": "stream",
     "text": [
      "Coin flip result: 0\n"
     ]
    }
   ],
   "source": [
    "from qiskit import QuantumCircuit\n",
    "from qiskit_aer import Aer\n",
    "\n",
    "def quantum_flip(shots=1):\n",
    "    \"\"\"Return a single flip outcome (0 or 1).\"\"\"\n",
    "    qc = QuantumCircuit(1, 1)\n",
    "    qc.h(0)\n",
    "    qc.measure(0, 0) # (qubit, classical bit)\n",
    "    sim = Aer.get_backend('aer_simulator')\n",
    "    job    = sim.run(qc, shots=shots)\n",
    "    result = job.result()\n",
    "    counts = result.get_counts(qc)\n",
    "    # counts might be {'0':a, '1':b}\n",
    "    # pick the key with count >0\n",
    "    return int(max(counts, key=counts.get))\n",
    "\n",
    "def play_quantum_coin():\n",
    "    print(\"🔮 Quantum Coin Toss Game 🔮\")\n",
    "    while True:\n",
    "        guess = input(\"Guess heads (0) or tails (1), or 'q' to quit: \").strip()\n",
    "        if guess.lower() == 'q':\n",
    "            print(\"Thanks for playing!\")\n",
    "            break\n",
    "        if guess not in ('0','1'):\n",
    "            print(\"Please enter 0, 1, or q.\")\n",
    "            continue\n",
    "        guess = int(guess)\n",
    "        outcome = quantum_flip()\n",
    "        print(f\"  The coin landed: {outcome} ({'heads' if outcome==0 else 'tails'})\")\n",
    "        if outcome == guess:\n",
    "            print(\"  🎉 You guessed right!\\n\")\n",
    "        else:\n",
    "            print(\"  😢 Sorry, wrong guess.\\n\")\n",
    "\n",
    "if __name__ == \"__main__\":\n",
    "    # print(\"Coin flip result:\", quantum_flip())\n",
    "    play_quantum_coin()\n"
   ]
  },
  {
   "cell_type": "code",
   "execution_count": null,
   "id": "9c80eeed",
   "metadata": {},
   "outputs": [],
   "source": []
  }
 ],
 "metadata": {
  "kernelspec": {
   "display_name": "cwq",
   "language": "python",
   "name": "python3"
  },
  "language_info": {
   "codemirror_mode": {
    "name": "ipython",
    "version": 3
   },
   "file_extension": ".py",
   "mimetype": "text/x-python",
   "name": "python",
   "nbconvert_exporter": "python",
   "pygments_lexer": "ipython3",
   "version": "3.13.2"
  }
 },
 "nbformat": 4,
 "nbformat_minor": 5
}
