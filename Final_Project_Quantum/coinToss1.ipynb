{
 "cells": [
  {
   "cell_type": "code",
   "execution_count": 6,
   "id": "5dd890cb",
   "metadata": {},
   "outputs": [],
   "source": [
    "from qiskit import QuantumCircuit\n",
    "from qiskit_aer import Aer"
   ]
  },
  {
   "cell_type": "code",
   "execution_count": 7,
   "id": "daf51418",
   "metadata": {},
   "outputs": [
    {
     "data": {
      "text/plain": [
       "<qiskit.circuit.instructionset.InstructionSet at 0x10ffc3e50>"
      ]
     },
     "execution_count": 7,
     "metadata": {},
     "output_type": "execute_result"
    }
   ],
   "source": [
    "# 1) Build the circuit\n",
    "qc = QuantumCircuit(1, 1)\n",
    "qc.h(0)             # put qubit into superposition\n",
    "qc.measure(0, 0)    # measure into classical "
   ]
  },
  {
   "cell_type": "code",
   "execution_count": 8,
   "id": "b2db2191",
   "metadata": {},
   "outputs": [],
   "source": [
    "# 2) Choose the simulator\n",
    "sim = Aer.get_backend('aer_simulator')"
   ]
  },
  {
   "cell_type": "code",
   "execution_count": 9,
   "id": "a79920fb",
   "metadata": {},
   "outputs": [],
   "source": [
    "# 3) Run it\n",
    "job    = sim.run(qc, shots=10)    \n",
    "result = job.result()"
   ]
  },
  {
   "cell_type": "code",
   "execution_count": 10,
   "id": "57d21b8b",
   "metadata": {},
   "outputs": [
    {
     "name": "stdout",
     "output_type": "stream",
     "text": [
      "{'0': 6, '1': 4}\n"
     ]
    }
   ],
   "source": [
    "# 4) Inspect the counts\n",
    "counts = result.get_counts(qc)\n",
    "print(counts)"
   ]
  },
  {
   "cell_type": "code",
   "execution_count": null,
   "id": "e8a8f41a",
   "metadata": {},
   "outputs": [],
   "source": []
  }
 ],
 "metadata": {
  "kernelspec": {
   "display_name": "cwq",
   "language": "python",
   "name": "python3"
  },
  "language_info": {
   "codemirror_mode": {
    "name": "ipython",
    "version": 3
   },
   "file_extension": ".py",
   "mimetype": "text/x-python",
   "name": "python",
   "nbconvert_exporter": "python",
   "pygments_lexer": "ipython3",
   "version": "3.13.2"
  }
 },
 "nbformat": 4,
 "nbformat_minor": 5
}
