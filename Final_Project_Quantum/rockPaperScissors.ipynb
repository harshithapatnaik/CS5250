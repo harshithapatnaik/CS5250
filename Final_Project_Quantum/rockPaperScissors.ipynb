{
 "cells": [
  {
   "cell_type": "code",
   "execution_count": 1,
   "id": "89e8ad27",
   "metadata": {},
   "outputs": [
    {
     "name": "stdout",
     "output_type": "stream",
     "text": [
      "🔮 Quantum Rock–Paper–Scissors 🔮\n",
      "Computer plays: rock\n",
      "  🤝 It’s a tie!\n",
      "\n",
      "Computer plays: scissors\n",
      "  😢 You lose.\n",
      "\n",
      "Computer plays: scissors\n",
      "  😢 You lose.\n",
      "\n",
      "Computer plays: scissors\n",
      "  😢 You lose.\n",
      "\n",
      "Computer plays: paper\n",
      "  😢 You lose.\n",
      "\n",
      "Computer plays: scissors\n",
      "  🎉 You win!\n",
      "\n",
      "Thanks for playing!\n"
     ]
    }
   ],
   "source": [
    "from qiskit import QuantumCircuit\n",
    "from qiskit_aer import Aer\n",
    "\n",
    "def quantum_rps_choice():\n",
    "    sim = Aer.get_backend('aer_simulator')\n",
    "    while True:\n",
    "        # 1) Build a 2-qubit superposition circuit\n",
    "        qc = QuantumCircuit(2, 2) # A QuantumCircuit with 2 qubits and 2 classical bits\n",
    "        qc.h([0, 1])          # superposition over 00,01,10,11\n",
    "        qc.measure([0, 1], [0, 1])\n",
    "        \n",
    "        # 2) Run and get a single shot\n",
    "        job    = sim.run(qc, shots=1)\n",
    "        result = job.result().get_counts()\n",
    "        state  = list(result.keys())[0]  # e.g. \"01\"\n",
    "        \n",
    "        # 3) Map states\n",
    "        if state == '00':\n",
    "            return 'rock'\n",
    "        elif state == '01':\n",
    "            return 'paper'\n",
    "        elif state == '10':\n",
    "            return 'scissors'\n",
    "        # if '11', loop to pick again\n",
    "\n",
    "def play_quantum_rps():\n",
    "    print(\"🔮 Quantum Rock–Paper–Scissors 🔮\")\n",
    "    moves = {'r':'rock','p':'paper','s':'scissors'}\n",
    "    while True:\n",
    "        u = input(\"Your move: (r)ock, (p)aper, (s)cissors or q to quit: \").lower().strip()\n",
    "        if u == 'q':\n",
    "            print(\"Thanks for playing!\")\n",
    "            break\n",
    "        if u not in moves:\n",
    "            print(\"Please enter r, p, s, or q.\")\n",
    "            continue\n",
    "        \n",
    "        user_move = moves[u]\n",
    "        comp_move = quantum_rps_choice()\n",
    "        print(f\"Computer plays: {comp_move}\")\n",
    "        \n",
    "        # determine winner\n",
    "        if user_move == comp_move:\n",
    "            print(\"  🤝 It’s a tie!\\n\")\n",
    "        elif (user_move, comp_move) in [\n",
    "              ('rock','scissors'),\n",
    "              ('paper','rock'),\n",
    "              ('scissors','paper')]:\n",
    "            print(\"  🎉 You win!\\n\")\n",
    "        else:\n",
    "            print(\"  😢 You lose.\\n\")\n",
    "\n",
    "if __name__ == \"__main__\":\n",
    "    play_quantum_rps()\n"
   ]
  },
  {
   "cell_type": "code",
   "execution_count": null,
   "id": "3dacc321",
   "metadata": {},
   "outputs": [],
   "source": []
  }
 ],
 "metadata": {
  "kernelspec": {
   "display_name": "cwq",
   "language": "python",
   "name": "python3"
  },
  "language_info": {
   "codemirror_mode": {
    "name": "ipython",
    "version": 3
   },
   "file_extension": ".py",
   "mimetype": "text/x-python",
   "name": "python",
   "nbconvert_exporter": "python",
   "pygments_lexer": "ipython3",
   "version": "3.13.2"
  }
 },
 "nbformat": 4,
 "nbformat_minor": 5
}
